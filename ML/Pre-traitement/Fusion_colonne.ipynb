{
 "cells": [
  {
   "cell_type": "code",
   "execution_count": 5,
   "id": "acaa0473",
   "metadata": {},
   "outputs": [
    {
     "name": "stdout",
     "output_type": "stream",
     "text": [
      "Valeurs distinctes de la colonne 'Gravité':\n",
      "['élevée' 'moyenne' 'faible']\n"
     ]
    }
   ],
   "source": [
    "import pandas as pd\n",
    "\n",
    "# Chemin du fichier CSV\n",
    "fichier_csv = 'C:/Users/PC/Downloads/traitement_grav_final.csv'\n",
    "\n",
    "# Charge le fichier CSV dans un DataFrame\n",
    "df = pd.read_csv(fichier_csv)\n",
    "\n",
    "# Fusionne les colonnes avec la logique \"OU\" si nécessaire (décommentez si ces colonnes existent)\n",
    "#df['Toux'] = df['cough'] | df['Cough'] | df['Coughing']\n",
    "\n",
    "# Supprime les anciennes colonnes si nécessaire (décommentez si ces colonnes existent)\n",
    "#df = df.drop(columns=['cough', 'Cough', 'Coughing'])\n",
    "\n",
    "# Ecrase le fichier original (décommentez si vous souhaitez écraser)\n",
    "#df.to_csv(fichier_csv, index=False)\n",
    "\n",
    "# Nombre de lignes à séparer pour le deuxième fichier\n",
    "n = 5000\n",
    "\n",
    "# Créer le premier fichier avec toutes les données sauf les 5000 dernières\n",
    "fichier_1 = df.iloc[:-n]\n",
    "fichier_1.to_csv(\"C:\\\\Users\\\\PC\\\\Desktop\\\\projet\\\\Web\\\\traitement_grav_part1.csv\", index=False)\n",
    "\n",
    "# Créer le deuxième fichier avec les 5000 dernières données\n",
    "fichier_2 = df.iloc[-n:]\n",
    "fichier_2.to_csv(\"C:\\\\Users\\\\PC\\\\Desktop\\\\projet\\\\Web\\\\traitement_grav_part2.csv\", index=False)\n",
    "\n",
    "# Afficher les valeurs distinctes de la colonne 'Gravité'\n",
    "print(\"Valeurs distinctes de la colonne 'Gravité':\")\n",
    "print(df['Gravité'].unique())\n"
   ]
  },
  {
   "cell_type": "code",
   "execution_count": null,
   "id": "d0804c6b",
   "metadata": {},
   "outputs": [],
   "source": []
  }
 ],
 "metadata": {
  "kernelspec": {
   "display_name": "Python 3 (ipykernel)",
   "language": "python",
   "name": "python3"
  },
  "language_info": {
   "codemirror_mode": {
    "name": "ipython",
    "version": 3
   },
   "file_extension": ".py",
   "mimetype": "text/x-python",
   "name": "python",
   "nbconvert_exporter": "python",
   "pygments_lexer": "ipython3",
   "version": "3.11.5"
  }
 },
 "nbformat": 4,
 "nbformat_minor": 5
}
