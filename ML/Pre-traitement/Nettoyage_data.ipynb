{
 "cells": [
  {
   "cell_type": "code",
   "execution_count": 4,
   "id": "47db8d93-3dc7-4758-9cf4-f4bbf8885420",
   "metadata": {},
   "outputs": [
    {
     "name": "stdout",
     "output_type": "stream",
     "text": [
      "Nombre de lignes avant suppression: 38538\n",
      "Nombre de lignes après suppression nan: 34842\n",
      "Nombre de lignes après suppression not to say: 33992\n"
     ]
    }
   ],
   "source": [
    "## TRAITEMENT DES DONNEES SOUS CSV ##\n",
    "\n",
    "# Opérations sur le jeu de données\n",
    "import pandas as pd\n",
    "\n",
    "col_names = ['Symptoms', 'Age', 'Sex', 'Disease', 'Treatment', 'Nature']\n",
    "# Charger le jeu de données sous format CSV\n",
    "df = pd.read_csv(\"respiratory symptoms and treatment.csv\", header=None, names=col_names)\n",
    "\n",
    "# Afficher le nombre de lignes avant suppression\n",
    "print(\"Nombre de lignes avant suppression:\", len(df))\n",
    "\n",
    "# Afficher les valeurs distinctes dans la colonne 'Symptoms et Treatment'\n",
    "print(\"Valeurs distinctes dans la colonne 'Symptoms':\", df['Symptoms'].unique())\n",
    "print(\"Valeurs distinctes dans la colonne 'Treatment':\", df['Treatment'].unique())\n",
    "\n",
    "# Remplacer temporairement les NaN dans \"Treatment\" par la valeur Treatment\n",
    "df[\"Treatment\"] = df[\"Treatment\"].fillna(\"No Treatment\")\n",
    "\n",
    "# Supprimer les lignes contenant au moins un NaN, à l'exception de la colonne \"Treatment\"\n",
    "df_sans_nan_sauf_treatment = df.dropna()\n",
    "# Sauvegarder le DataFrame nettoyé dans un nouveau fichier CSV, si nécessaire\n",
    "df_sans_nan_sauf_treatment.to_csv(\"traitement_ok.csv\", index=False)\n",
    "# Afficher le nombre de lignes après suppression des nan\n",
    "print(\"Nombre de lignes après suppression nan:\", len(df_sans_nan_sauf_treatment))\n",
    "\n",
    "# Supprimer les lignes où la colonne 'Sex' a pour valeur 'not to say'\n",
    "sans_nan = pd.read_csv(\"traitement_ok.csv\")\n",
    "df_filtre = sans_nan[sans_nan['Sex'] != 'not to say']\n",
    "df_filtre.to_csv(\"traitement_ok.csv\", index=False)\n",
    "\n",
    "# Afficher le nombre de lignes après suppression des not to say\n",
    "print(\"Nombre de lignes après suppression not to say:\", len(df_filtre))\n",
    "\n",
    "# On recode la variable Sex avec 1 pour Male et 0 pour female\n",
    "sans_nan = pd.read_csv(\"traitement_ok.csv\")\n",
    "sans_nan['Sex'] = sans_nan['Sex'].replace({'male': 1, 'female': 0})\n",
    "# Sauvegarder le DataFrame modifié dans un nouveau fichier CSV\n",
    "sans_nan.to_csv(\"traitement_ok.csv\", index=False)\n",
    "\n",
    "# Supprimer la première ligne du DataFrame car elle contient les noms des colonnes\n",
    "sans_nan = pd.read_csv(\"traitement_ok.csv\")\n",
    "df_modifie = sans_nan.iloc[1:]\n",
    "df_modifie.to_csv('traitement_ok.csv', index=False)  \n",
    "\n",
    "# Recodage des variables catégorielles en nouvelles colonnes de 0 et 1 pour chaque\n",
    "# valeurs possibles du dataset\n",
    "sans_nan = pd.read_csv(\"traitement_ok.csv\")\n",
    "sans_nan = pd.get_dummies(sans_nan, columns=['Symptoms', 'Treatment', 'Nature'], drop_first=True)\n",
    "sans_nan.to_csv('traitement_av.csv', index=False)\n",
    "\n",
    "#Recodage en 1 pour Asthme et 0 pour tout le reste\n",
    "sans_nan = pd.read_csv(\"traitement_av.csv\")\n",
    "sans_nan['Disease'] = sans_nan['Disease'].apply(lambda x: 1 if x == \"Asthma\" else 0)\n",
    "sans_nan.to_csv('traitement_final.csv', index=False)\n",
    "\n"
   ]
  },
  {
   "cell_type": "code",
   "execution_count": null,
   "id": "4d4ea9d5-14b3-405c-86ca-da2cc45306c8",
   "metadata": {},
   "outputs": [],
   "source": []
  },
  {
   "cell_type": "code",
   "execution_count": null,
   "id": "14ab4708-16ef-4359-b2de-57a32b4e66bb",
   "metadata": {},
   "outputs": [],
   "source": []
  }
 ],
 "metadata": {
  "kernelspec": {
   "display_name": "Python 3 (ipykernel)",
   "language": "python",
   "name": "python3"
  },
  "language_info": {
   "codemirror_mode": {
    "name": "ipython",
    "version": 3
   },
   "file_extension": ".py",
   "mimetype": "text/x-python",
   "name": "python",
   "nbconvert_exporter": "python",
   "pygments_lexer": "ipython3",
   "version": "3.11.5"
  }
 },
 "nbformat": 4,
 "nbformat_minor": 5
}
